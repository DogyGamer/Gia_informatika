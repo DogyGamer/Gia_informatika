{
 "cells": [
  {
   "cell_type": "code",
   "execution_count": 62,
   "metadata": {},
   "outputs": [],
   "source": [
    "import os\n",
    "import time\n",
    "import datetime\n",
    "import mysql.connector as conn"
   ]
  },
  {
   "cell_type": "code",
   "execution_count": 56,
   "metadata": {},
   "outputs": [],
   "source": [
    "list_dir = os.listdir(\"../\")"
   ]
  },
  {
   "cell_type": "code",
   "execution_count": 57,
   "metadata": {},
   "outputs": [],
   "source": [
    "res = {}\n",
    "for dir in list_dir:\n",
    "    try:\n",
    "        i_dir = int(dir.split(\",\")[0])\n",
    "        res[i_dir] = dir\n",
    "    except:\n",
    "        pass"
   ]
  },
  {
   "cell_type": "code",
   "execution_count": 58,
   "metadata": {},
   "outputs": [],
   "source": [
    "def get_time_created(path):\n",
    "    return datetime.datetime.fromtimestamp(os.stat(path).st_ctime).astimezone().isoformat()"
   ]
  },
  {
   "cell_type": "code",
   "execution_count": 59,
   "metadata": {},
   "outputs": [
    {
     "name": "stdout",
     "output_type": "stream",
     "text": [
      "12\n",
      "13\n",
      "14\n",
      "15\n",
      "16\n",
      "17\n",
      "18\n",
      "19,20,21\n",
      "2\n",
      "22\n",
      "23\n",
      "24\n",
      "25\n",
      "26\n",
      "27\n",
      "3\n",
      "5\n",
      "6\n",
      "8\n",
      "9\n"
     ]
    }
   ],
   "source": [
    "values = []\n",
    "\n",
    "for problem_id, folder in res.items():\n",
    "    print(folder)\n",
    "    for file_name in [x for x in os.listdir(f\"../{folder}/\") if '.py' in x or \".xlsx\" in x]:\n",
    "        solution_path = f\"../{folder}/{file_name}\"\n",
    "        # print(f\"\\t{solution_path}\")\n",
    "        values.append((get_time_created(solution_path), problem_id, file_name))"
   ]
  },
  {
   "cell_type": "code",
   "execution_count": 66,
   "metadata": {},
   "outputs": [],
   "source": [
    "connection = conn.connect(\n",
    "    host=\"localhost\",\n",
    "    user=\"root\",\n",
    "    password=\"O247HY54ru\",\n",
    "    database=\"ege\"\n",
    ")\n",
    "\n",
    "insert_solutions_query = \"\"\"\n",
    "INSERT INTO solutions\n",
    "(date_solved, problem_id, file_name)\n",
    "VALUES ( %s, %s, %s )\n",
    "\"\"\"\n",
    "\n",
    "with connection.cursor() as cursor:\n",
    "    cursor.executemany(insert_solutions_query,values)\n",
    "    connection.commit()"
   ]
  },
  {
   "cell_type": "code",
   "execution_count": 70,
   "metadata": {},
   "outputs": [],
   "source": [
    "# В итоге, научить его считать статистику. Показывать процент правильных к неправильным.\n",
    "# Колво решенных в целом\n",
    "# В конце дня, недели, месяца отправлять статистику, мол в этом месяце ты решил N задач, из которых 60% верных\n",
    "# Задание 1(колвореш): 60%\n",
    "# Задание 2(коловореш): 53%\n",
    "\n",
    "# Статистика по дням недели, мб табличку типа как у гитхаба\n",
    "# Автозапуск скрипта в конце дня"
   ]
  },
  {
   "cell_type": "code",
   "execution_count": null,
   "metadata": {},
   "outputs": [],
   "source": []
  }
 ],
 "metadata": {
  "kernelspec": {
   "display_name": "Python 3",
   "language": "python",
   "name": "python3"
  },
  "language_info": {
   "codemirror_mode": {
    "name": "ipython",
    "version": 3
   },
   "file_extension": ".py",
   "mimetype": "text/x-python",
   "name": "python",
   "nbconvert_exporter": "python",
   "pygments_lexer": "ipython3",
   "version": "3.10.0"
  }
 },
 "nbformat": 4,
 "nbformat_minor": 2
}
